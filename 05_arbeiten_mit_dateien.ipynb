{
 "cells": [
  {
   "cell_type": "markdown",
   "metadata": {
    "toc": true
   },
   "source": [
    "<h1>Inhaltsverzeichnis<span class=\"tocSkip\"></span></h1>\n",
    "<div class=\"toc\"><ul class=\"toc-item\"><li><span><a href=\"#Arbeiten-mit-Textdateien\" data-toc-modified-id=\"Arbeiten-mit-Textdateien-1\"><span class=\"toc-item-num\">1&nbsp;&nbsp;</span>Arbeiten mit Textdateien</a></span><ul class=\"toc-item\"><li><span><a href=\"#Zeile-für-Zeile-auslesen\" data-toc-modified-id=\"Zeile-für-Zeile-auslesen-1.1\"><span class=\"toc-item-num\">1.1&nbsp;&nbsp;</span>Zeile für Zeile auslesen</a></span></li><li><span><a href=\"#Zeile-für-Zeile-schreiben\" data-toc-modified-id=\"Zeile-für-Zeile-schreiben-1.2\"><span class=\"toc-item-num\">1.2&nbsp;&nbsp;</span>Zeile für Zeile schreiben</a></span></li><li><span><a href=\"#Eine-ganze-Textdatei-in-einem-Rutsch-einlesen\" data-toc-modified-id=\"Eine-ganze-Textdatei-in-einem-Rutsch-einlesen-1.3\"><span class=\"toc-item-num\">1.3&nbsp;&nbsp;</span>Eine ganze Textdatei in einem Rutsch einlesen</a></span></li><li><span><a href=\"#with-Anweisung-bei-Dateioperationen\" data-toc-modified-id=\"with-Anweisung-bei-Dateioperationen-1.4\"><span class=\"toc-item-num\">1.4&nbsp;&nbsp;</span><code>with</code>-Anweisung bei Dateioperationen</a></span></li></ul></li><li><span><a href=\"#Arbeiten-mit-Binärdateien\" data-toc-modified-id=\"Arbeiten-mit-Binärdateien-2\"><span class=\"toc-item-num\">2&nbsp;&nbsp;</span>Arbeiten mit Binärdateien</a></span><ul class=\"toc-item\"><li><span><a href=\"#Binärdaten-wegschreiben\" data-toc-modified-id=\"Binärdaten-wegschreiben-2.1\"><span class=\"toc-item-num\">2.1&nbsp;&nbsp;</span>Binärdaten wegschreiben</a></span></li><li><span><a href=\"#Binärdaten-wieder-einlesen\" data-toc-modified-id=\"Binärdaten-wieder-einlesen-2.2\"><span class=\"toc-item-num\">2.2&nbsp;&nbsp;</span>Binärdaten wieder einlesen</a></span></li></ul></li><li><span><a href=\"#Pickle\" data-toc-modified-id=\"Pickle-3\"><span class=\"toc-item-num\">3&nbsp;&nbsp;</span>Pickle</a></span><ul class=\"toc-item\"><li><span><a href=\"#Daten-einlegen\" data-toc-modified-id=\"Daten-einlegen-3.1\"><span class=\"toc-item-num\">3.1&nbsp;&nbsp;</span>Daten einlegen</a></span></li><li><span><a href=\"#Daten-wiederherstellen\" data-toc-modified-id=\"Daten-wiederherstellen-3.2\"><span class=\"toc-item-num\">3.2&nbsp;&nbsp;</span>Daten wiederherstellen</a></span></li><li><span><a href=\"#Pickeln-von-eigenen-Objekten?\" data-toc-modified-id=\"Pickeln-von-eigenen-Objekten?-3.3\"><span class=\"toc-item-num\">3.3&nbsp;&nbsp;</span>Pickeln von eigenen Objekten?</a></span></li><li><span><a href=\"#Problem-des-pickle-Ansatzes\" data-toc-modified-id=\"Problem-des-pickle-Ansatzes-3.4\"><span class=\"toc-item-num\">3.4&nbsp;&nbsp;</span>Problem des pickle-Ansatzes</a></span></li></ul></li><li><span><a href=\"#Shelve\" data-toc-modified-id=\"Shelve-4\"><span class=\"toc-item-num\">4&nbsp;&nbsp;</span>Shelve</a></span><ul class=\"toc-item\"><li><span><a href=\"#Ein-Regal-erstellen\" data-toc-modified-id=\"Ein-Regal-erstellen-4.1\"><span class=\"toc-item-num\">4.1&nbsp;&nbsp;</span>Ein Regal erstellen</a></span></li><li><span><a href=\"#Das-Regal-wiederherstellen\" data-toc-modified-id=\"Das-Regal-wiederherstellen-4.2\"><span class=\"toc-item-num\">4.2&nbsp;&nbsp;</span>Das Regal wiederherstellen</a></span></li></ul></li></ul></div>"
   ]
  },
  {
   "cell_type": "markdown",
   "metadata": {},
   "source": [
    "# Arbeiten mit Textdateien"
   ]
  },
  {
   "cell_type": "markdown",
   "metadata": {},
   "source": [
    "## Zeile für Zeile auslesen"
   ]
  },
  {
   "cell_type": "markdown",
   "metadata": {},
   "source": [
    "Im folgenden wollen wir eine Textdatei Zeile für Zeile auslesen.\n",
    "\n",
    "Wir gehen daher davon aus, dass es in dem gleichen Pfad, in dem dieses Jupyter-Notebook liegt, eine Textdatei mit dem Namen `test1.txt` gibt.\n",
    "\n",
    "Als erstes müssen wir die Datei öffnen:"
   ]
  },
  {
   "cell_type": "code",
   "execution_count": 1,
   "metadata": {
    "collapsed": true
   },
   "outputs": [],
   "source": [
    "fobj = open(\"test1.txt\", \"r\") # r steht für read"
   ]
  },
  {
   "cell_type": "code",
   "execution_count": 2,
   "metadata": {},
   "outputs": [
    {
     "data": {
      "text/plain": [
       "_io.TextIOWrapper"
      ]
     },
     "execution_count": 2,
     "metadata": {},
     "output_type": "execute_result"
    }
   ],
   "source": [
    "type(fobj)"
   ]
  },
  {
   "cell_type": "markdown",
   "metadata": {},
   "source": [
    "Da die Datei jetzt offen ist, können wir mittels des Dateiobjektes `fobj` die Datei Zeile für Zeile auslesen. So als ob wir über eine Pythonliste laufen würden steht dann in `zeile` jeweils die nächste Zeile der Textdatei:"
   ]
  },
  {
   "cell_type": "code",
   "execution_count": 3,
   "metadata": {},
   "outputs": [
    {
     "name": "stdout",
     "output_type": "stream",
     "text": [
      "Zeile1 fÃ¤ngt hier an und endet hier.\n",
      "\n",
      "Zeile2 ist hier.\n",
      "\n",
      "\n",
      "\n",
      "Zeile4 sagt: Zeile3 ist leer.\n",
      "\n",
      "Und noch eine Zeile5\n"
     ]
    }
   ],
   "source": [
    "for zeile in fobj:\n",
    "    print(zeile)\n",
    "fobj.close()"
   ]
  },
  {
   "cell_type": "markdown",
   "metadata": {},
   "source": [
    "Wir bemerken die vielen Leerzeilen. Die kommen daher, dass `print()` nach der Ausgabe jeder Zeichenkette auch noch mal eine Leerzeile macht. Die eingelesen Zeilen besitzen aber auch das Newline Steuerzeichen `\\n`.\n",
    "\n",
    "Bedienen können wir uns der Hilfsmethode `rstrip()` der String-Klasse, die alle Whitespaces vom rechten Rand löscht:"
   ]
  },
  {
   "cell_type": "code",
   "execution_count": 4,
   "metadata": {},
   "outputs": [
    {
     "name": "stdout",
     "output_type": "stream",
     "text": [
      "Zeile1 fÃ¤ngt hier an und endet hier.\n",
      "Zeile2 ist hier.\n",
      "\n",
      "Zeile4 sagt: Zeile3 ist leer.\n",
      "Und noch eine Zeile5\n"
     ]
    }
   ],
   "source": [
    "fobj = open(\"test1.txt\", \"r\")\n",
    "for zeile in fobj:\n",
    "    zeile = zeile.rstrip()\n",
    "    print(zeile)\n",
    "fobj.close()    "
   ]
  },
  {
   "cell_type": "markdown",
   "metadata": {},
   "source": [
    "Jetzt fällt uns auf, dass das ä nicht richtig ausgeben wurde. Wir lesen die Datei nochmal mittels einer anderen Codierung:"
   ]
  },
  {
   "cell_type": "code",
   "execution_count": 5,
   "metadata": {},
   "outputs": [
    {
     "name": "stdout",
     "output_type": "stream",
     "text": [
      "Zeile1 fängt hier an und endet hier.\n",
      "Zeile2 ist hier.\n",
      "\n",
      "Zeile4 sagt: Zeile3 ist leer.\n",
      "Und noch eine Zeile5\n"
     ]
    }
   ],
   "source": [
    "fobj = open(\"test1.txt\", \"r\", encoding=\"utf8\")\n",
    "for zeile in fobj:\n",
    "    zeile = zeile.rstrip()\n",
    "    print(zeile)\n",
    "fobj.close()"
   ]
  },
  {
   "cell_type": "markdown",
   "metadata": {},
   "source": [
    "Geschafft!"
   ]
  },
  {
   "cell_type": "markdown",
   "metadata": {},
   "source": [
    "## Zeile für Zeile schreiben"
   ]
  },
  {
   "cell_type": "markdown",
   "metadata": {},
   "source": [
    "Jetzt wollen wir ein kleines Python-Skript schreiben, das in der Lage ist, selber eine Textdatei zum Schreiben zu öffnen. Jede vom Benutzer mittels `input()` eingegebene Zeile wird im Folgenden in die Textdatei `test2.txt` geschrieben:"
   ]
  },
  {
   "cell_type": "code",
   "execution_count": 6,
   "metadata": {},
   "outputs": [
    {
     "name": "stdout",
     "output_type": "stream",
     "text": [
      "Zeile 1.\n",
      "Jetzt kommt die Zeile Nr. 2.\n",
      "Und noch ne dritte Zeile.\n",
      "stop\n"
     ]
    }
   ],
   "source": [
    "fobj = open(\"test2.txt\", \"w\", encoding=\"utf8\")\n",
    "\n",
    "while True:\n",
    "    eingabe = input()\n",
    "    if eingabe != \"stop\":\n",
    "        fobj.write( eingabe + \"\\n\" )\n",
    "    else:\n",
    "        break\n",
    "\n",
    "fobj.close()        "
   ]
  },
  {
   "cell_type": "markdown",
   "metadata": {},
   "source": [
    "## Eine ganze Textdatei in einem Rutsch einlesen"
   ]
  },
  {
   "cell_type": "markdown",
   "metadata": {},
   "source": [
    "Wir müssen den Inhalt einer Textdatei aber nicht Zeile für Zeile mit einer for-Schleife einlesen. Stattdessen können wir uns auch der `readlines()` Methode eines Dateiobjektes bedienen. Es wird die Textdatei dann in einem Rutsch eingelesen und jede Zeile als Eintrag einer Python-Liste hinzugefügt."
   ]
  },
  {
   "cell_type": "code",
   "execution_count": 7,
   "metadata": {
    "collapsed": true
   },
   "outputs": [],
   "source": [
    "alle_zeilen = open(\"test2.txt\", \"r\").readlines()"
   ]
  },
  {
   "cell_type": "code",
   "execution_count": 8,
   "metadata": {},
   "outputs": [
    {
     "data": {
      "text/plain": [
       "['Zeile 1.\\n', 'Jetzt kommt die Zeile Nr. 2.\\n', 'Und noch ne dritte Zeile.\\n']"
      ]
     },
     "execution_count": 8,
     "metadata": {},
     "output_type": "execute_result"
    }
   ],
   "source": [
    "alle_zeilen"
   ]
  },
  {
   "cell_type": "code",
   "execution_count": 9,
   "metadata": {},
   "outputs": [
    {
     "data": {
      "text/plain": [
       "list"
      ]
     },
     "execution_count": 9,
     "metadata": {},
     "output_type": "execute_result"
    }
   ],
   "source": [
    "type(alle_zeilen)"
   ]
  },
  {
   "cell_type": "markdown",
   "metadata": {},
   "source": [
    "`readlines()` liefert uns also eine Python-Liste zurück. Dagegen liefert die Methode `read()` einen einzigen riesigen String zurück:"
   ]
  },
  {
   "cell_type": "code",
   "execution_count": 10,
   "metadata": {
    "collapsed": true
   },
   "outputs": [],
   "source": [
    "alle_zeilen = open(\"test2.txt\", \"r\").read()"
   ]
  },
  {
   "cell_type": "code",
   "execution_count": 11,
   "metadata": {},
   "outputs": [
    {
     "data": {
      "text/plain": [
       "'Zeile 1.\\nJetzt kommt die Zeile Nr. 2.\\nUnd noch ne dritte Zeile.\\n'"
      ]
     },
     "execution_count": 11,
     "metadata": {},
     "output_type": "execute_result"
    }
   ],
   "source": [
    "alle_zeilen"
   ]
  },
  {
   "cell_type": "code",
   "execution_count": 12,
   "metadata": {},
   "outputs": [
    {
     "data": {
      "text/plain": [
       "str"
      ]
     },
     "execution_count": 12,
     "metadata": {},
     "output_type": "execute_result"
    }
   ],
   "source": [
    "type(alle_zeilen)"
   ]
  },
  {
   "cell_type": "markdown",
   "metadata": {},
   "source": [
    "## `with`-Anweisung bei Dateioperationen\n",
    "\n",
    "Oft findet man das `open` zusammen mit der sog. `with` Anweisung.\n",
    "\n",
    "Wird der `with`-Block beendet oder tritt eine Ausnahme auf, wird die Datei dann automatisch geschlossen."
   ]
  },
  {
   "cell_type": "code",
   "execution_count": 13,
   "metadata": {},
   "outputs": [
    {
     "ename": "ValueError",
     "evalue": "invalid literal for int() with base 10: 'Zeile1 fängt hier an und endet hier.'",
     "output_type": "error",
     "traceback": [
      "\u001b[1;31m---------------------------------------------------------------------------\u001b[0m",
      "\u001b[1;31mValueError\u001b[0m                                Traceback (most recent call last)",
      "\u001b[1;32m<ipython-input-13-f51ac21c9191>\u001b[0m in \u001b[0;36m<module>\u001b[1;34m()\u001b[0m\n\u001b[0;32m      1\u001b[0m \u001b[1;32mwith\u001b[0m \u001b[0mopen\u001b[0m\u001b[1;33m(\u001b[0m\u001b[1;34m\"test1.txt\"\u001b[0m\u001b[1;33m,\u001b[0m \u001b[1;34m\"r\"\u001b[0m\u001b[1;33m,\u001b[0m \u001b[0mencoding\u001b[0m\u001b[1;33m=\u001b[0m\u001b[1;34m\"utf8\"\u001b[0m\u001b[1;33m)\u001b[0m \u001b[1;32mas\u001b[0m \u001b[0mfobj\u001b[0m\u001b[1;33m:\u001b[0m\u001b[1;33m\u001b[0m\u001b[0m\n\u001b[0;32m      2\u001b[0m     \u001b[1;32mfor\u001b[0m \u001b[0mzeile\u001b[0m \u001b[1;32min\u001b[0m \u001b[0mfobj\u001b[0m\u001b[1;33m:\u001b[0m\u001b[1;33m\u001b[0m\u001b[0m\n\u001b[1;32m----> 3\u001b[1;33m         \u001b[0mzeile_als_zahl\u001b[0m \u001b[1;33m=\u001b[0m \u001b[0mint\u001b[0m\u001b[1;33m(\u001b[0m \u001b[0mzeile\u001b[0m\u001b[1;33m.\u001b[0m\u001b[0mrstrip\u001b[0m\u001b[1;33m(\u001b[0m\u001b[1;33m)\u001b[0m \u001b[1;33m)\u001b[0m\u001b[1;33m\u001b[0m\u001b[0m\n\u001b[0m\u001b[0;32m      4\u001b[0m         \u001b[0mprint\u001b[0m\u001b[1;33m(\u001b[0m\u001b[0mzeile\u001b[0m\u001b[1;33m)\u001b[0m\u001b[1;33m\u001b[0m\u001b[0m\n\u001b[0;32m      5\u001b[0m     \u001b[0mfobj\u001b[0m\u001b[1;33m.\u001b[0m\u001b[0mclose\u001b[0m\u001b[1;33m(\u001b[0m\u001b[1;33m)\u001b[0m\u001b[1;33m\u001b[0m\u001b[0m\n",
      "\u001b[1;31mValueError\u001b[0m: invalid literal for int() with base 10: 'Zeile1 fängt hier an und endet hier.'"
     ]
    }
   ],
   "source": [
    "with open(\"test1.txt\", \"r\", encoding=\"utf8\") as fobj:\n",
    "    for zeile in fobj:\n",
    "        zeile_als_zahl = int( zeile.rstrip() )\n",
    "        print(zeile)\n",
    "    fobj.close()"
   ]
  },
  {
   "cell_type": "markdown",
   "metadata": {},
   "source": [
    "Es trat ein Fehler auf, denn die erste Zeile der Datei `test1.txt` lässt sich nicht in eine Zahl umwandeln. Obwohl wir nicht mehr zur Zeile `fobj.close()` kommen, ist die Datei nun aber automatisch geschlossen."
   ]
  },
  {
   "cell_type": "markdown",
   "metadata": {},
   "source": [
    "# Arbeiten mit Binärdateien"
   ]
  },
  {
   "cell_type": "markdown",
   "metadata": {},
   "source": [
    "## Binärdaten wegschreiben"
   ]
  },
  {
   "cell_type": "markdown",
   "metadata": {},
   "source": [
    "Wir schreiben nun eine Binärdatei. Das bedeutet, jedes Byte, das wir mittels `write()` wegschreiben, wird genauso in die Datei geschrieben, wie wir es angeben."
   ]
  },
  {
   "cell_type": "code",
   "execution_count": 14,
   "metadata": {
    "collapsed": true
   },
   "outputs": [],
   "source": [
    "fobj = open(\"test.bin\",\"wb\") \n",
    "fobj.write(b\"H\")\n",
    "fobj.write(b\"a\") \n",
    "fobj.write(b\"l\")\n",
    "fobj.write(b\"l\")\n",
    "fobj.write(b\"o\")\n",
    "fobj.write(b\"!\")\n",
    "fobj.close()"
   ]
  },
  {
   "cell_type": "markdown",
   "metadata": {},
   "source": [
    "## Binärdaten wieder einlesen"
   ]
  },
  {
   "cell_type": "markdown",
   "metadata": {},
   "source": [
    "Die gerade erzeugte Binärdatei werden wir jetzt Byte für Byte wieder einlesen:"
   ]
  },
  {
   "cell_type": "code",
   "execution_count": 15,
   "metadata": {},
   "outputs": [
    {
     "name": "stdout",
     "output_type": "stream",
     "text": [
      "Next byte is b'H', int-value=72\n",
      "Next byte is b'a', int-value=97\n",
      "Next byte is b'l', int-value=108\n",
      "Next byte is b'l', int-value=108\n",
      "Next byte is b'o', int-value=111\n",
      "Next byte is b'!', int-value=33\n"
     ]
    }
   ],
   "source": [
    "fobj = open(\"test.bin\",\"rb\") \n",
    "byte = fobj.read(1)\n",
    "while byte != b\"\":\n",
    "    print( \"Next byte is {}, int-value={}\"\n",
    "          .format(byte, int.from_bytes(byte, byteorder='little')) )\n",
    "    byte = fobj.read(1)"
   ]
  },
  {
   "cell_type": "code",
   "execution_count": 16,
   "metadata": {},
   "outputs": [
    {
     "name": "stdout",
     "output_type": "stream",
     "text": [
      "<class 'bytes'>\n"
     ]
    }
   ],
   "source": [
    "print(type(byte))"
   ]
  },
  {
   "cell_type": "markdown",
   "metadata": {},
   "source": [
    "Jetzt versuchen wir mal eine Zeichenkette in der Datei zu speichern:"
   ]
  },
  {
   "cell_type": "code",
   "execution_count": 17,
   "metadata": {},
   "outputs": [],
   "source": [
    "mein_str = \"hello world\"\n",
    "mein_str_als_bytes = str.encode(mein_str)"
   ]
  },
  {
   "cell_type": "code",
   "execution_count": 18,
   "metadata": {},
   "outputs": [
    {
     "data": {
      "text/plain": [
       "bytes"
      ]
     },
     "execution_count": 18,
     "metadata": {},
     "output_type": "execute_result"
    }
   ],
   "source": [
    "type(mein_str_als_bytes)"
   ]
  },
  {
   "cell_type": "code",
   "execution_count": 19,
   "metadata": {
    "collapsed": true
   },
   "outputs": [],
   "source": [
    "fobj = open(\"test.bin\",\"wb\") "
   ]
  },
  {
   "cell_type": "code",
   "execution_count": 20,
   "metadata": {},
   "outputs": [
    {
     "data": {
      "text/plain": [
       "11"
      ]
     },
     "execution_count": 20,
     "metadata": {},
     "output_type": "execute_result"
    }
   ],
   "source": [
    "fobj.write( mein_str_als_bytes )"
   ]
  },
  {
   "cell_type": "code",
   "execution_count": 21,
   "metadata": {
    "collapsed": true
   },
   "outputs": [],
   "source": [
    "fobj.close()"
   ]
  },
  {
   "cell_type": "markdown",
   "metadata": {},
   "source": [
    "Und jetzt lesen wir die komplett in einem Rutsch weggeschriebenen Bytes wieder ein:"
   ]
  },
  {
   "cell_type": "code",
   "execution_count": 22,
   "metadata": {
    "collapsed": true
   },
   "outputs": [],
   "source": [
    "fobj = open(\"test.bin\",\"rb\") "
   ]
  },
  {
   "cell_type": "code",
   "execution_count": 23,
   "metadata": {
    "collapsed": true
   },
   "outputs": [],
   "source": [
    "bytes_read = fobj.read()"
   ]
  },
  {
   "cell_type": "code",
   "execution_count": 24,
   "metadata": {},
   "outputs": [
    {
     "data": {
      "text/plain": [
       "b'hello world'"
      ]
     },
     "execution_count": 24,
     "metadata": {},
     "output_type": "execute_result"
    }
   ],
   "source": [
    "bytes_read"
   ]
  },
  {
   "cell_type": "code",
   "execution_count": 25,
   "metadata": {
    "collapsed": true
   },
   "outputs": [],
   "source": [
    "str_wieder_eingelesen = bytes_read.decode()"
   ]
  },
  {
   "cell_type": "code",
   "execution_count": 26,
   "metadata": {},
   "outputs": [
    {
     "name": "stdout",
     "output_type": "stream",
     "text": [
      "hello world\n"
     ]
    }
   ],
   "source": [
    "print(str_wieder_eingelesen)"
   ]
  },
  {
   "cell_type": "markdown",
   "metadata": {},
   "source": [
    "# Pickle\n",
    "\n",
    "Das englische Wort \"to pickle\" meint soviel wie \"etwas einlegen\". Was legen wir hier ein? Wir legen Daten in eine Datei ein, um sie zu sichern und später wiederherzustellen.\n",
    "\n",
    "Das Standardmodul `pickle` ist einfach klasse, wenn wir unkompliziert Daten oder Objekte als Datei sichern und später wiederherstellen wollen."
   ]
  },
  {
   "cell_type": "markdown",
   "metadata": {},
   "source": [
    "## Daten einlegen"
   ]
  },
  {
   "cell_type": "markdown",
   "metadata": {},
   "source": [
    "Als erstes sichern wir mal eine Python-Liste mit drei verschiedenen Einträgen:"
   ]
  },
  {
   "cell_type": "code",
   "execution_count": 27,
   "metadata": {
    "collapsed": true
   },
   "outputs": [],
   "source": [
    "ein_paar_daten = [42, \"Der Sinn des Lebens\", 42.123]"
   ]
  },
  {
   "cell_type": "code",
   "execution_count": 28,
   "metadata": {
    "collapsed": true
   },
   "outputs": [],
   "source": [
    "import pickle\n",
    "fobj = open(\"test.pkl\", \"wb\")\n",
    "pickle.dump(ein_paar_daten, fobj)\n",
    "fobj.close()"
   ]
  },
  {
   "cell_type": "markdown",
   "metadata": {},
   "source": [
    "## Daten wiederherstellen"
   ]
  },
  {
   "cell_type": "markdown",
   "metadata": {},
   "source": [
    "Können wir die gerade gesicherte Python-Liste denn auch wieder herstellen?"
   ]
  },
  {
   "cell_type": "code",
   "execution_count": 29,
   "metadata": {
    "collapsed": true
   },
   "outputs": [],
   "source": [
    "import pickle\n",
    "fobj = open(\"test.pkl\", \"rb\")\n",
    "die_daten = pickle.load(fobj)"
   ]
  },
  {
   "cell_type": "code",
   "execution_count": 30,
   "metadata": {},
   "outputs": [
    {
     "data": {
      "text/plain": [
       "list"
      ]
     },
     "execution_count": 30,
     "metadata": {},
     "output_type": "execute_result"
    }
   ],
   "source": [
    "type(die_daten)"
   ]
  },
  {
   "cell_type": "code",
   "execution_count": 31,
   "metadata": {},
   "outputs": [
    {
     "name": "stdout",
     "output_type": "stream",
     "text": [
      "[42, 'Der Sinn des Lebens', 42.123]\n"
     ]
    }
   ],
   "source": [
    "print(die_daten)"
   ]
  },
  {
   "cell_type": "markdown",
   "metadata": {},
   "source": [
    "Da sind die Daten wieder, klasse!"
   ]
  },
  {
   "cell_type": "markdown",
   "metadata": {},
   "source": [
    "## Pickeln von eigenen Objekten?"
   ]
  },
  {
   "cell_type": "markdown",
   "metadata": {},
   "source": [
    "Können wir denn auch eigene Objekte einlegen. Auch das kann das `pickle` - Modul:"
   ]
  },
  {
   "cell_type": "code",
   "execution_count": 32,
   "metadata": {
    "collapsed": true
   },
   "outputs": [],
   "source": [
    "class zeitreihe:\n",
    "    \n",
    "    def __init__(self, daten):\n",
    "        self.daten = daten"
   ]
  },
  {
   "cell_type": "code",
   "execution_count": 33,
   "metadata": {
    "collapsed": true
   },
   "outputs": [],
   "source": [
    "z1 = zeitreihe( [12, 3, 42, 100, 200] )"
   ]
  },
  {
   "cell_type": "code",
   "execution_count": 34,
   "metadata": {
    "collapsed": true
   },
   "outputs": [],
   "source": [
    "import pickle\n",
    "fobj = open(\"test2.pkl\", \"wb\")\n",
    "pickle.dump(z1, fobj)\n",
    "fobj.close()"
   ]
  },
  {
   "cell_type": "markdown",
   "metadata": {},
   "source": [
    "Jetzt versuchen wir das zeitreihen-Objekt wieder aus der Datei herzustellen.\n",
    "\n",
    "Genauer gesagt, wir erzeugen ein neues zeitreihen-Objekt `z2` durch Einlesen der Daten aus `test2.pkl`:"
   ]
  },
  {
   "cell_type": "code",
   "execution_count": 35,
   "metadata": {
    "collapsed": true
   },
   "outputs": [],
   "source": [
    "fobj = open(\"test2.pkl\", \"rb\")\n",
    "z2 = pickle.load(fobj)"
   ]
  },
  {
   "cell_type": "code",
   "execution_count": 36,
   "metadata": {},
   "outputs": [
    {
     "data": {
      "text/plain": [
       "<__main__.zeitreihe at 0x1dfb3077550>"
      ]
     },
     "execution_count": 36,
     "metadata": {},
     "output_type": "execute_result"
    }
   ],
   "source": [
    "z2"
   ]
  },
  {
   "cell_type": "code",
   "execution_count": 37,
   "metadata": {},
   "outputs": [
    {
     "data": {
      "text/plain": [
       "[12, 3, 42, 100, 200]"
      ]
     },
     "execution_count": 37,
     "metadata": {},
     "output_type": "execute_result"
    }
   ],
   "source": [
    "z2.daten"
   ]
  },
  {
   "cell_type": "markdown",
   "metadata": {},
   "source": [
    "`z1` gibt es aber auch noch:"
   ]
  },
  {
   "cell_type": "code",
   "execution_count": 38,
   "metadata": {},
   "outputs": [
    {
     "data": {
      "text/plain": [
       "[12, 3, 42, 100, 200]"
      ]
     },
     "execution_count": 38,
     "metadata": {},
     "output_type": "execute_result"
    }
   ],
   "source": [
    "z1.daten"
   ]
  },
  {
   "cell_type": "markdown",
   "metadata": {},
   "source": [
    "## Problem des pickle-Ansatzes"
   ]
  },
  {
   "cell_type": "markdown",
   "metadata": {},
   "source": [
    "Doch was ist, wenn wir mehrere Datenstrukturen pickeln wollen?"
   ]
  },
  {
   "cell_type": "markdown",
   "metadata": {},
   "source": [
    "Jetzt wollen wir mal drei Dinge einlegen: `ein_paar_daten`, eine weitere Python-Liste und eine Zeichenkette:"
   ]
  },
  {
   "cell_type": "code",
   "execution_count": 39,
   "metadata": {
    "collapsed": true
   },
   "outputs": [],
   "source": [
    "noch_mehr_daten = [1,2,3,10,20,30]\n",
    "und_noch_mehr_daten = \"abcdef123456\""
   ]
  },
  {
   "cell_type": "markdown",
   "metadata": {},
   "source": [
    "Wir können alles einlegen, indem wir einfach die `dump()` Funktion öfters aufrufen:"
   ]
  },
  {
   "cell_type": "code",
   "execution_count": 40,
   "metadata": {
    "collapsed": true
   },
   "outputs": [],
   "source": [
    "import pickle\n",
    "fobj = open(\"test.pkl\", \"wb\")\n",
    "pickle.dump(ein_paar_daten, fobj)\n",
    "pickle.dump(noch_mehr_daten, fobj)\n",
    "pickle.dump(und_noch_mehr_daten, fobj)\n",
    "fobj.close()"
   ]
  },
  {
   "cell_type": "markdown",
   "metadata": {},
   "source": [
    "Umgekehrt können wir wieder alles einlesen, indem wir die Funktion `load()` öfters aufrufen:"
   ]
  },
  {
   "cell_type": "code",
   "execution_count": 41,
   "metadata": {
    "collapsed": true
   },
   "outputs": [],
   "source": [
    "import pickle\n",
    "fobj = open(\"test.pkl\", \"rb\")\n",
    "d1 = pickle.load(fobj)\n",
    "d2 = pickle.load(fobj)\n",
    "d3 = pickle.load(fobj)\n",
    "fobj.close()"
   ]
  },
  {
   "cell_type": "code",
   "execution_count": 42,
   "metadata": {},
   "outputs": [
    {
     "name": "stdout",
     "output_type": "stream",
     "text": [
      "[42, 'Der Sinn des Lebens', 42.123]\n",
      "[1, 2, 3, 10, 20, 30]\n",
      "abcdef123456\n"
     ]
    }
   ],
   "source": [
    "print(d1)\n",
    "print(d2)\n",
    "print(d3)"
   ]
  },
  {
   "cell_type": "markdown",
   "metadata": {},
   "source": [
    "Man sieht: man muss die Reihenfolge des Wegschreibens beim Einlesen berücksichtigen. Das ist aber eventuell fehleranfällig. Noch leichter geht es daher mit dem `shelve`-Modul, bei dem wir beim Wiederherstellen sagen können, was wir denn brauchen."
   ]
  },
  {
   "cell_type": "markdown",
   "metadata": {},
   "source": [
    "# Shelve"
   ]
  },
  {
   "cell_type": "markdown",
   "metadata": {},
   "source": [
    "Das Standardmodul `shelve` kann man sich wie der Name schon sagt als ein Regal vorstellen, indem man über einen Namen (Key) Dinge ablegen und wiederherstellen kann."
   ]
  },
  {
   "cell_type": "markdown",
   "metadata": {},
   "source": [
    "## Ein Regal erstellen"
   ]
  },
  {
   "cell_type": "markdown",
   "metadata": {},
   "source": [
    "Erstmal brauchen wir ein Regal:"
   ]
  },
  {
   "cell_type": "code",
   "execution_count": 43,
   "metadata": {
    "collapsed": true
   },
   "outputs": [],
   "source": [
    "import shelve"
   ]
  },
  {
   "cell_type": "code",
   "execution_count": 44,
   "metadata": {
    "collapsed": true
   },
   "outputs": [],
   "source": [
    "s = shelve.open(\"MeinRegal\")"
   ]
  },
  {
   "cell_type": "markdown",
   "metadata": {},
   "source": [
    "Man kann nun das Shelf wie ein Dictionary benutzen.\n",
    "\n",
    "Durch jeden neuen Eintrag werden die Daten abgespeichert."
   ]
  },
  {
   "cell_type": "code",
   "execution_count": 45,
   "metadata": {
    "collapsed": true
   },
   "outputs": [],
   "source": [
    "s[\"eine liste\"] = [1,2,3]\n",
    "s[\"eine zk\"] = \"Hallo!\"\n",
    "s[\"eine zahl\"] = 456"
   ]
  },
  {
   "cell_type": "code",
   "execution_count": 46,
   "metadata": {},
   "outputs": [
    {
     "data": {
      "text/plain": [
       "<shelve.DbfilenameShelf at 0x1dfb307e4e0>"
      ]
     },
     "execution_count": 46,
     "metadata": {},
     "output_type": "execute_result"
    }
   ],
   "source": [
    "s"
   ]
  },
  {
   "cell_type": "code",
   "execution_count": 47,
   "metadata": {},
   "outputs": [
    {
     "name": "stdout",
     "output_type": "stream",
     "text": [
      "<shelve.DbfilenameShelf object at 0x000001DFB307E4E0>\n"
     ]
    }
   ],
   "source": [
    "print(s)"
   ]
  },
  {
   "cell_type": "code",
   "execution_count": 48,
   "metadata": {},
   "outputs": [
    {
     "data": {
      "text/plain": [
       "4"
      ]
     },
     "execution_count": 48,
     "metadata": {},
     "output_type": "execute_result"
    }
   ],
   "source": [
    "len(s)"
   ]
  },
  {
   "cell_type": "code",
   "execution_count": 49,
   "metadata": {
    "collapsed": true
   },
   "outputs": [],
   "source": [
    "s.close()"
   ]
  },
  {
   "cell_type": "markdown",
   "metadata": {},
   "source": [
    "## Das Regal wiederherstellen"
   ]
  },
  {
   "cell_type": "markdown",
   "metadata": {},
   "source": [
    "Jetzt öffnen wir das Regal wieder, das wir zuvor gefüllt und geschlossen haben und wollen was wiederherstellen:"
   ]
  },
  {
   "cell_type": "code",
   "execution_count": 50,
   "metadata": {
    "collapsed": true
   },
   "outputs": [],
   "source": [
    "import shelve\n",
    "t = shelve.open(\"MeinRegal\")"
   ]
  },
  {
   "cell_type": "markdown",
   "metadata": {},
   "source": [
    "Wir können über das Regal wie in einer Python-Liste iterrieren, um uns anzuschauen, was denn überhaupt im Regal steht:"
   ]
  },
  {
   "cell_type": "code",
   "execution_count": 51,
   "metadata": {},
   "outputs": [
    {
     "name": "stdout",
     "output_type": "stream",
     "text": [
      "eine liste\n",
      "eine zk\n",
      "eine zahl\n",
      "was neues\n"
     ]
    }
   ],
   "source": [
    "for d in t:\n",
    "    print(d)"
   ]
  },
  {
   "cell_type": "markdown",
   "metadata": {},
   "source": [
    "Wenn wir etwas aus dem Regal rausholen wollen (d.h. etwas wiederherstellen wollen), geht das mittels des Index-Operators `[]`:"
   ]
  },
  {
   "cell_type": "code",
   "execution_count": 52,
   "metadata": {},
   "outputs": [
    {
     "name": "stdout",
     "output_type": "stream",
     "text": [
      "[1, 2, 3]\n"
     ]
    }
   ],
   "source": [
    "print( t[\"eine liste\"] )"
   ]
  },
  {
   "cell_type": "code",
   "execution_count": 53,
   "metadata": {},
   "outputs": [
    {
     "data": {
      "text/plain": [
       "'Hallo!'"
      ]
     },
     "execution_count": 53,
     "metadata": {},
     "output_type": "execute_result"
    }
   ],
   "source": [
    "t[\"eine zk\"]"
   ]
  },
  {
   "cell_type": "code",
   "execution_count": 54,
   "metadata": {},
   "outputs": [
    {
     "data": {
      "text/plain": [
       "456"
      ]
     },
     "execution_count": 54,
     "metadata": {},
     "output_type": "execute_result"
    }
   ],
   "source": [
    "t[\"eine zahl\"]"
   ]
  },
  {
   "cell_type": "markdown",
   "metadata": {},
   "source": [
    "Jetzt fügen wir was neues in das Regal ein:"
   ]
  },
  {
   "cell_type": "code",
   "execution_count": 55,
   "metadata": {
    "collapsed": true
   },
   "outputs": [],
   "source": [
    "t[\"was neues\"] = \"Hier was Neues!\""
   ]
  },
  {
   "cell_type": "code",
   "execution_count": 56,
   "metadata": {
    "collapsed": true
   },
   "outputs": [],
   "source": [
    "t[\"was neues\"] = \"Wird überschrieben!\""
   ]
  },
  {
   "cell_type": "code",
   "execution_count": 57,
   "metadata": {},
   "outputs": [
    {
     "data": {
      "text/plain": [
       "'Wird überschrieben!'"
      ]
     },
     "execution_count": 57,
     "metadata": {},
     "output_type": "execute_result"
    }
   ],
   "source": [
    "t[\"was neues\"]"
   ]
  },
  {
   "cell_type": "code",
   "execution_count": 58,
   "metadata": {
    "collapsed": true
   },
   "outputs": [],
   "source": [
    "t.close()"
   ]
  }
 ],
 "metadata": {
  "kernelspec": {
   "display_name": "Python 3",
   "language": "python",
   "name": "python3"
  },
  "language_info": {
   "codemirror_mode": {
    "name": "ipython",
    "version": 3
   },
   "file_extension": ".py",
   "mimetype": "text/x-python",
   "name": "python",
   "nbconvert_exporter": "python",
   "pygments_lexer": "ipython3",
   "version": "3.6.2"
  },
  "toc": {
   "base_numbering": 1,
   "nav_menu": {
    "height": "139px",
    "width": "306px"
   },
   "number_sections": true,
   "sideBar": true,
   "skip_h1_title": false,
   "title_cell": "Inhaltsverzeichnis",
   "title_sidebar": "Inhalte",
   "toc_cell": true,
   "toc_position": {},
   "toc_section_display": true,
   "toc_window_display": true
  }
 },
 "nbformat": 4,
 "nbformat_minor": 2
}
