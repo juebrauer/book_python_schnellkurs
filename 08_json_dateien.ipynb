{
 "cells": [
  {
   "cell_type": "markdown",
   "metadata": {
    "toc": true
   },
   "source": [
    "<h1>Inhaltsverzeichnis<span class=\"tocSkip\"></span></h1>\n",
    "<div class=\"toc\"><ul class=\"toc-item\"><li><span><a href=\"#JSON-Dateiformat\" data-toc-modified-id=\"JSON-Dateiformat-1\"><span class=\"toc-item-num\">1&nbsp;&nbsp;</span>JSON Dateiformat</a></span><ul class=\"toc-item\"><li><span><a href=\"#Parameter-im-JSON-Format-speichern\" data-toc-modified-id=\"Parameter-im-JSON-Format-speichern-1.1\"><span class=\"toc-item-num\">1.1&nbsp;&nbsp;</span>Parameter im JSON-Format speichern</a></span></li><li><span><a href=\"#Parameter-aus-JSON-Datei-einlesen\" data-toc-modified-id=\"Parameter-aus-JSON-Datei-einlesen-1.2\"><span class=\"toc-item-num\">1.2&nbsp;&nbsp;</span>Parameter aus JSON-Datei einlesen</a></span></li></ul></li></ul></div>"
   ]
  },
  {
   "cell_type": "markdown",
   "metadata": {},
   "source": [
    "# JSON Dateiformat\n",
    "\n",
    "Das JSON Dateiformat ist sehr beliebt. Viele Entwickler nutzen es, um Parameter für ein Programm in Menschen-lesbarer Form zu speichern.\n",
    "\n",
    "Das erlaubt es, dass ein Benutzer einen normalen Texteditor benutzt, um die Parameter eines Programmes zu verändern.\n",
    "\n",
    "Beim Programmstart kann dann das Programm die Parameter aus der Datei auslesen und sich entsprechend der eingestellten Parameter verhalten.\n",
    "\n",
    "Die Arbeit mit JSON-Dateien ist dank des `json`-Moduls denkbar einfach."
   ]
  },
  {
   "cell_type": "markdown",
   "metadata": {},
   "source": [
    "## Parameter im JSON-Format speichern"
   ]
  },
  {
   "cell_type": "markdown",
   "metadata": {},
   "source": [
    "Als einfaches Beispiel zeigen wir, wie man Parameter in Python typischerweise speichert, z.B. als Dictionary.\n",
    "\n",
    "Jedem Parameternamen (Key) wird dabei ein Wert (Value) zugeordnet:"
   ]
  },
  {
   "cell_type": "code",
   "execution_count": 1,
   "metadata": {
    "collapsed": true
   },
   "outputs": [],
   "source": [
    "params = { \"sensor\": \"druck\", \"abtastrate\": 0.123, \"alpha\": 25, \\\n",
    "           \"weiteres\" : [1,2,3,4,5,6] }"
   ]
  },
  {
   "cell_type": "markdown",
   "metadata": {},
   "source": [
    "Das JSON-Modul sollte direkt verfügbar sein, ohne, dass man es über den Paketmanager `conda` oder `pip` nachinstallieren muss, denn es ist ein Modul der sogenannten Python-Standardbibliothek.\n",
    "\n",
    "Übrigens können Sie sich unter\n",
    "\n",
    "https://docs.python.org/3/library/\n",
    "\n",
    "eine Liste aller verfügbaren Module der Python-Standardbibliothek einmal anschauen."
   ]
  },
  {
   "cell_type": "code",
   "execution_count": 2,
   "metadata": {
    "collapsed": true
   },
   "outputs": [],
   "source": [
    "import json"
   ]
  },
  {
   "cell_type": "markdown",
   "metadata": {},
   "source": [
    "Wir öffnen eine Datei zum Schreiben (`\"w\"` wie write):"
   ]
  },
  {
   "cell_type": "code",
   "execution_count": 3,
   "metadata": {
    "collapsed": true
   },
   "outputs": [],
   "source": [
    "fobj = open(\"meine_json_datei.json\", \"w\")"
   ]
  },
  {
   "cell_type": "markdown",
   "metadata": {},
   "source": [
    "Jetzt speichern wir in einem Rutsch das ganze Dictionary im JSON-Format in die Datei. Dazu nutzen wir die `dump` Funktion des JSON-Moduls `json`:"
   ]
  },
  {
   "cell_type": "code",
   "execution_count": 4,
   "metadata": {
    "collapsed": true
   },
   "outputs": [],
   "source": [
    "json.dump(params, fobj, indent=4, sort_keys=True)"
   ]
  },
  {
   "cell_type": "markdown",
   "metadata": {},
   "source": [
    "Um sicher zu gehen, dass die Daten auch weggeschrieben werden, sollten wir die Datei mittels `close()` schließen, denn es könnte sein, dass sonst noch Daten vom Betriebssystem zwischengepuffert werden, die erst bei Erreichen einer Mindestanzahl von zu schreibenden Daten weggeschrieben werden:"
   ]
  },
  {
   "cell_type": "code",
   "execution_count": 5,
   "metadata": {
    "collapsed": true
   },
   "outputs": [],
   "source": [
    "fobj.close()"
   ]
  },
  {
   "cell_type": "markdown",
   "metadata": {},
   "source": [
    "## Parameter aus JSON-Datei einlesen"
   ]
  },
  {
   "cell_type": "markdown",
   "metadata": {},
   "source": [
    "Zum Einlesen der weggeschriebenen Daten brauchen wir auch wieder das `json`-Modul:"
   ]
  },
  {
   "cell_type": "code",
   "execution_count": 6,
   "metadata": {
    "collapsed": true
   },
   "outputs": [],
   "source": [
    "import json"
   ]
  },
  {
   "cell_type": "markdown",
   "metadata": {},
   "source": [
    "Dieses Mal die Datei mittels `\"r\"` zum Lesen (read) öffnen:"
   ]
  },
  {
   "cell_type": "code",
   "execution_count": 7,
   "metadata": {
    "collapsed": true
   },
   "outputs": [],
   "source": [
    "fobj2 = open(\"meine_json_datei.json\", \"r\")"
   ]
  },
  {
   "cell_type": "markdown",
   "metadata": {},
   "source": [
    "Statt der Funktion `dump()` verwenden wir jetzt die Funktion `load()` zum Wiedereinlesen der Daten:"
   ]
  },
  {
   "cell_type": "code",
   "execution_count": 8,
   "metadata": {
    "collapsed": true
   },
   "outputs": [],
   "source": [
    "data = json.load(fobj2)"
   ]
  },
  {
   "cell_type": "markdown",
   "metadata": {},
   "source": [
    "Mal schaun, ob alle Daten eingelesen wurden:"
   ]
  },
  {
   "cell_type": "code",
   "execution_count": 9,
   "metadata": {},
   "outputs": [
    {
     "data": {
      "text/plain": [
       "{'abtastrate': 0.123,\n",
       " 'alpha': 25,\n",
       " 'sensor': 'druck',\n",
       " 'weiteres': [1, 2, 3, 4, 5, 6]}"
      ]
     },
     "execution_count": 9,
     "metadata": {},
     "output_type": "execute_result"
    }
   ],
   "source": [
    "data"
   ]
  },
  {
   "cell_type": "code",
   "execution_count": 10,
   "metadata": {},
   "outputs": [
    {
     "data": {
      "text/plain": [
       "dict"
      ]
     },
     "execution_count": 10,
     "metadata": {},
     "output_type": "execute_result"
    }
   ],
   "source": [
    "type(data)"
   ]
  },
  {
   "cell_type": "markdown",
   "metadata": {},
   "source": [
    "Einwandfrei! Das Dictionary konnte korrekt wiedereingelesen werden. Der Zugriff auf die Daten ist nun über den üblichen Dictionary-Zugriff möglich."
   ]
  },
  {
   "cell_type": "code",
   "execution_count": 11,
   "metadata": {},
   "outputs": [
    {
     "data": {
      "text/plain": [
       "0.123"
      ]
     },
     "execution_count": 11,
     "metadata": {},
     "output_type": "execute_result"
    }
   ],
   "source": [
    "data[\"abtastrate\"]"
   ]
  }
 ],
 "metadata": {
  "kernelspec": {
   "display_name": "Python 3",
   "language": "python",
   "name": "python3"
  },
  "language_info": {
   "codemirror_mode": {
    "name": "ipython",
    "version": 3
   },
   "file_extension": ".py",
   "mimetype": "text/x-python",
   "name": "python",
   "nbconvert_exporter": "python",
   "pygments_lexer": "ipython3",
   "version": "3.6.2"
  },
  "toc": {
   "base_numbering": 1,
   "nav_menu": {},
   "number_sections": true,
   "sideBar": true,
   "skip_h1_title": false,
   "title_cell": "Inhaltsverzeichnis",
   "title_sidebar": "Inhalte",
   "toc_cell": true,
   "toc_position": {
    "height": "calc(100% - 180px)",
    "left": "10px",
    "top": "150px",
    "width": "212px"
   },
   "toc_section_display": true,
   "toc_window_display": true
  }
 },
 "nbformat": 4,
 "nbformat_minor": 4
}
