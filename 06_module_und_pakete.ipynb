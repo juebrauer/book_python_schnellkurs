{
 "cells": [
  {
   "cell_type": "markdown",
   "metadata": {
    "toc": true
   },
   "source": [
    "<h1>Inhaltsverzeichnis<span class=\"tocSkip\"></span></h1>\n",
    "<div class=\"toc\"><ul class=\"toc-item\"><li><span><a href=\"#Bekannte-Module\" data-toc-modified-id=\"Bekannte-Module-1\"><span class=\"toc-item-num\">1&nbsp;&nbsp;</span>Bekannte Module</a></span></li><li><span><a href=\"#Namensräume\" data-toc-modified-id=\"Namensräume-2\"><span class=\"toc-item-num\">2&nbsp;&nbsp;</span>Namensräume</a></span></li><li><span><a href=\"#Wo-werden-die-Module-gesucht?\" data-toc-modified-id=\"Wo-werden-die-Module-gesucht?-3\"><span class=\"toc-item-num\">3&nbsp;&nbsp;</span>Wo werden die Module gesucht?</a></span></li><li><span><a href=\"#Wo-liegt-das-Modul?\" data-toc-modified-id=\"Wo-liegt-das-Modul?-4\"><span class=\"toc-item-num\">4&nbsp;&nbsp;</span>Wo liegt das Modul?</a></span></li><li><span><a href=\"#Eigene-Module\" data-toc-modified-id=\"Eigene-Module-5\"><span class=\"toc-item-num\">5&nbsp;&nbsp;</span>Eigene Module</a></span></li><li><span><a href=\"#Eigene-Pakete\" data-toc-modified-id=\"Eigene-Pakete-6\"><span class=\"toc-item-num\">6&nbsp;&nbsp;</span>Eigene Pakete</a></span></li></ul></div>"
   ]
  },
  {
   "cell_type": "markdown",
   "metadata": {},
   "source": [
    "# Bekannte Module"
   ]
  },
  {
   "cell_type": "markdown",
   "metadata": {},
   "source": [
    "Sie haben bestimmt bereits einige Module (manche Python-Entwickler sprechen auch von \"Bibliotheken\") verwendet, z.B. das `math` Modul:"
   ]
  },
  {
   "cell_type": "code",
   "execution_count": 1,
   "metadata": {
    "collapsed": true
   },
   "outputs": [],
   "source": [
    "import math"
   ]
  },
  {
   "cell_type": "markdown",
   "metadata": {},
   "source": [
    "Durch diese Modul-Importanweisung stehen uns plötzlich neue Funktionen und Konstanten zur Verfügung.\n",
    "\n",
    "Mittels `dir(<modulname>`) von `dir` wie \"directory\" (Verzeichnis) erhalten wir ein Verzeichnis bzw. eine Python-Liste aller neuen \"Symbole\" (Funktionsnamen und Variablen), die uns zur Verfügung stehen:    "
   ]
  },
  {
   "cell_type": "code",
   "execution_count": 2,
   "metadata": {},
   "outputs": [],
   "source": [
    "liste = dir(math)"
   ]
  },
  {
   "cell_type": "code",
   "execution_count": 3,
   "metadata": {},
   "outputs": [
    {
     "data": {
      "text/plain": [
       "['__doc__',\n",
       " '__loader__',\n",
       " '__name__',\n",
       " '__package__',\n",
       " '__spec__',\n",
       " 'acos',\n",
       " 'acosh',\n",
       " 'asin',\n",
       " 'asinh',\n",
       " 'atan',\n",
       " 'atan2',\n",
       " 'atanh',\n",
       " 'ceil',\n",
       " 'copysign',\n",
       " 'cos',\n",
       " 'cosh',\n",
       " 'degrees',\n",
       " 'e',\n",
       " 'erf',\n",
       " 'erfc',\n",
       " 'exp',\n",
       " 'expm1',\n",
       " 'fabs',\n",
       " 'factorial',\n",
       " 'floor',\n",
       " 'fmod',\n",
       " 'frexp',\n",
       " 'fsum',\n",
       " 'gamma',\n",
       " 'gcd']"
      ]
     },
     "execution_count": 3,
     "metadata": {},
     "output_type": "execute_result"
    }
   ],
   "source": [
    "liste[:30]"
   ]
  },
  {
   "cell_type": "markdown",
   "metadata": {},
   "source": [
    "Was machen denn diese neuen Funktionen? Hierzu können wir mittels des eingebauten Hilfesystems über die Funktion `help` die entsprechenden Doc-Strings befragen:"
   ]
  },
  {
   "cell_type": "code",
   "execution_count": 4,
   "metadata": {},
   "outputs": [
    {
     "name": "stdout",
     "output_type": "stream",
     "text": [
      "Help on built-in function cos in module math:\n",
      "\n",
      "cos(...)\n",
      "    cos(x)\n",
      "    \n",
      "    Return the cosine of x (measured in radians).\n",
      "\n"
     ]
    }
   ],
   "source": [
    "help(math.cos)"
   ]
  },
  {
   "cell_type": "code",
   "execution_count": 5,
   "metadata": {},
   "outputs": [
    {
     "data": {
      "text/plain": [
       "1.0"
      ]
     },
     "execution_count": 5,
     "metadata": {},
     "output_type": "execute_result"
    }
   ],
   "source": [
    "math.cos(0.0)"
   ]
  },
  {
   "cell_type": "markdown",
   "metadata": {},
   "source": [
    "Wir können auch mehrere Module auf einmal über eine Komma-separierte Liste von Modulnamen importieren:"
   ]
  },
  {
   "cell_type": "code",
   "execution_count": 6,
   "metadata": {},
   "outputs": [
    {
     "name": "stdout",
     "output_type": "stream",
     "text": [
      "6.123233995736766e-17\n",
      "0.4448978084937426\n"
     ]
    }
   ],
   "source": [
    "import math, random\n",
    "\n",
    "# Verwenden der Kosinusfunktion cos()\n",
    "# aus dem Modul \"math\"\n",
    "print(math.cos(math.pi/2))\n",
    "\n",
    "# Verwenden des Zufallszahlengenerators uniform()\n",
    "# aus dem Modul \"random\"\n",
    "print(random.uniform(0, 1))"
   ]
  },
  {
   "cell_type": "markdown",
   "metadata": {},
   "source": [
    "Die `import`-Anweisung kann irgendwo stehen, oft wird sie aber der Übersichtlichkeit an den Anfang gestellt. Wir könnten aber die `import`-Anweisung z.B. erst kurz bevor wir die entsprechende Funktionalität benötigen, absetzen:"
   ]
  },
  {
   "cell_type": "code",
   "execution_count": 7,
   "metadata": {},
   "outputs": [
    {
     "data": {
      "text/plain": [
       "31.41592653589793"
      ]
     },
     "execution_count": 7,
     "metadata": {},
     "output_type": "execute_result"
    }
   ],
   "source": [
    "def kreis_umfang(radius):\n",
    "    \n",
    "    import math\n",
    "    return 2.0*math.pi*radius\n",
    "\n",
    "kreis_umfang(5.0)"
   ]
  },
  {
   "cell_type": "markdown",
   "metadata": {},
   "source": [
    "So sieht man es aber meistens. Ähnlich wie in C und C++ Programmen, bei denen alle `include`-Anweisungen am Kopf einer Quellcodedatei zur besseren Übersicht gesammelt werden, kann man die `import`-Anweisungen auch in Python an den Anfang des Quellcodes stellen:"
   ]
  },
  {
   "cell_type": "code",
   "execution_count": 8,
   "metadata": {},
   "outputs": [
    {
     "data": {
      "text/plain": [
       "31.41592653589793"
      ]
     },
     "execution_count": 8,
     "metadata": {},
     "output_type": "execute_result"
    }
   ],
   "source": [
    "import math\n",
    "\n",
    "def kreis_umfang(radius):\n",
    "    return 2.0*math.pi*radius\n",
    "\n",
    "kreis_umfang(5.0)"
   ]
  },
  {
   "cell_type": "markdown",
   "metadata": {},
   "source": [
    "Das hier geht aber auch:"
   ]
  },
  {
   "cell_type": "code",
   "execution_count": 9,
   "metadata": {},
   "outputs": [
    {
     "data": {
      "text/plain": [
       "31.41592653589793"
      ]
     },
     "execution_count": 9,
     "metadata": {},
     "output_type": "execute_result"
    }
   ],
   "source": [
    "def kreis_umfang(radius):\n",
    "    return 2.0*math.pi*radius\n",
    "\n",
    "import math\n",
    "kreis_umfang(5.0)"
   ]
  },
  {
   "cell_type": "markdown",
   "metadata": {},
   "source": [
    "Ein wichtiger Hinweis:\n",
    "    \n",
    "Wenn Sie zweimal oder sogar noch öfters die gleiche `import`-Anweisung hintereinander absetzen, führt Python sie nur einmal aus.\n",
    "\n",
    "Das muss man vor allem beim Importieren von eigenen Modulen berücksichtigen. Entwickelt man diese und verändert dort etwas, hofft man durch eine erneute `import`-Anweisung die neuen Funktionen und Klassen, die man dort schreibt, erhalten zu können. Um das zu bewerkstelligen, muss man aber den Python-Kernel neu starten, denn dann erst führt Python die `import`-Anweisung erst wieder wirklich aus und man importiert den veränderten bzw. neuen Modulcode."
   ]
  },
  {
   "cell_type": "markdown",
   "metadata": {},
   "source": [
    "# Namensräume"
   ]
  },
  {
   "cell_type": "markdown",
   "metadata": {},
   "source": [
    "Man nennt hier `math` auch einen Namensraum, in dem die Funktionen wie `cos()` oder die Konstante Pi stehen.\n",
    "\n",
    "Möchten wir die Funktion `cos()` zum Beispiel verwenden, müssen wir über den Namensraum `math` auf sie zugreifen:"
   ]
  },
  {
   "cell_type": "code",
   "execution_count": 10,
   "metadata": {},
   "outputs": [
    {
     "data": {
      "text/plain": [
       "1.0"
      ]
     },
     "execution_count": 10,
     "metadata": {},
     "output_type": "execute_result"
    }
   ],
   "source": [
    "math.cos(0.0)"
   ]
  },
  {
   "cell_type": "markdown",
   "metadata": {},
   "source": [
    "Alternativ können wir aber auch die Funktionen und Konstanten in den sogenannten \"globalen Namensraum\" importieren. In dem globalen Namensraum lebt zum Beispiel auch die bekannte Funktion `print()`."
   ]
  },
  {
   "cell_type": "code",
   "execution_count": 11,
   "metadata": {
    "collapsed": true
   },
   "outputs": [],
   "source": [
    "from math import cos, pi"
   ]
  },
  {
   "cell_type": "markdown",
   "metadata": {},
   "source": [
    "Jetzt geht es auch ohne ein vorangestelltes `math.`:"
   ]
  },
  {
   "cell_type": "code",
   "execution_count": 12,
   "metadata": {},
   "outputs": [
    {
     "data": {
      "text/plain": [
       "1.0"
      ]
     },
     "execution_count": 12,
     "metadata": {},
     "output_type": "execute_result"
    }
   ],
   "source": [
    "cos(0.0)"
   ]
  },
  {
   "cell_type": "code",
   "execution_count": 13,
   "metadata": {},
   "outputs": [
    {
     "data": {
      "text/plain": [
       "6.283185307179586"
      ]
     },
     "execution_count": 13,
     "metadata": {},
     "output_type": "execute_result"
    }
   ],
   "source": [
    "2*pi"
   ]
  },
  {
   "cell_type": "markdown",
   "metadata": {},
   "source": [
    "Möchte man alles aus einem Modul in den globalen Namensraum importieren, kann man dies mit einem `*` machen:"
   ]
  },
  {
   "cell_type": "code",
   "execution_count": 14,
   "metadata": {
    "collapsed": true
   },
   "outputs": [],
   "source": [
    "from math import *"
   ]
  },
  {
   "cell_type": "code",
   "execution_count": 15,
   "metadata": {},
   "outputs": [
    {
     "data": {
      "text/plain": [
       "0.0"
      ]
     },
     "execution_count": 15,
     "metadata": {},
     "output_type": "execute_result"
    }
   ],
   "source": [
    "sin(0.0)"
   ]
  },
  {
   "cell_type": "code",
   "execution_count": 16,
   "metadata": {},
   "outputs": [
    {
     "data": {
      "text/plain": [
       "2.718281828459045"
      ]
     },
     "execution_count": 16,
     "metadata": {},
     "output_type": "execute_result"
    }
   ],
   "source": [
    "e"
   ]
  },
  {
   "cell_type": "markdown",
   "metadata": {},
   "source": [
    "Wieso sollte man dies vielleicht nicht machen? Man sieht es an der Eulerschen Zahl e. Diese steht uns nun über die Variable `e` zur Verfügung. Aber vielleicht hatten wir im globalen Namensraum noch eine andere Variable `e` vorab definiert.\n",
    "\n",
    "Jetzt wäre so eine Definition überschrieben!"
   ]
  },
  {
   "cell_type": "code",
   "execution_count": 17,
   "metadata": {
    "collapsed": true
   },
   "outputs": [],
   "source": [
    "e = \"Das Ergebnis\""
   ]
  },
  {
   "cell_type": "code",
   "execution_count": 18,
   "metadata": {},
   "outputs": [
    {
     "data": {
      "text/plain": [
       "'Das Ergebnis'"
      ]
     },
     "execution_count": 18,
     "metadata": {},
     "output_type": "execute_result"
    }
   ],
   "source": [
    "e"
   ]
  },
  {
   "cell_type": "markdown",
   "metadata": {},
   "source": [
    "Unter `e` ist also nicht mehr die Eulersche Zahl abgespeichert, sondern die Zeichenkette `Das Ergebnis`. Wollen wir die Euelersche Zahl wieder über `e` haben, müssten wir nun erneut importieren:"
   ]
  },
  {
   "cell_type": "code",
   "execution_count": 19,
   "metadata": {
    "collapsed": true
   },
   "outputs": [],
   "source": [
    "from math import *"
   ]
  },
  {
   "cell_type": "code",
   "execution_count": 20,
   "metadata": {},
   "outputs": [
    {
     "data": {
      "text/plain": [
       "2.718281828459045"
      ]
     },
     "execution_count": 20,
     "metadata": {},
     "output_type": "execute_result"
    }
   ],
   "source": [
    "e"
   ]
  },
  {
   "cell_type": "markdown",
   "metadata": {},
   "source": [
    "Wir können den Namensraum beim Importieren auch umbenennen:"
   ]
  },
  {
   "cell_type": "code",
   "execution_count": 21,
   "metadata": {
    "collapsed": true
   },
   "outputs": [],
   "source": [
    "import math as mathematik"
   ]
  },
  {
   "cell_type": "code",
   "execution_count": 22,
   "metadata": {},
   "outputs": [
    {
     "data": {
      "text/plain": [
       "6.123233995736766e-17"
      ]
     },
     "execution_count": 22,
     "metadata": {},
     "output_type": "execute_result"
    }
   ],
   "source": [
    "mathematik.cos(mathematik.pi/2)"
   ]
  },
  {
   "cell_type": "markdown",
   "metadata": {},
   "source": [
    "Auch können wir einzelne importierte Funktionen/Konstanten beim Importieren gleich Umbenennen:"
   ]
  },
  {
   "cell_type": "code",
   "execution_count": 23,
   "metadata": {
    "collapsed": true
   },
   "outputs": [],
   "source": [
    "from math import cos as kosinus"
   ]
  },
  {
   "cell_type": "code",
   "execution_count": 24,
   "metadata": {},
   "outputs": [
    {
     "data": {
      "text/plain": [
       "1.0"
      ]
     },
     "execution_count": 24,
     "metadata": {},
     "output_type": "execute_result"
    }
   ],
   "source": [
    "kosinus(0.0)"
   ]
  },
  {
   "cell_type": "code",
   "execution_count": 25,
   "metadata": {
    "collapsed": true
   },
   "outputs": [],
   "source": [
    "from math import e as EulerscheZahl"
   ]
  },
  {
   "cell_type": "code",
   "execution_count": 26,
   "metadata": {},
   "outputs": [
    {
     "data": {
      "text/plain": [
       "2.718281828459045"
      ]
     },
     "execution_count": 26,
     "metadata": {},
     "output_type": "execute_result"
    }
   ],
   "source": [
    "EulerscheZahl"
   ]
  },
  {
   "cell_type": "markdown",
   "metadata": {},
   "source": [
    "# Wo werden die Module gesucht?"
   ]
  },
  {
   "cell_type": "markdown",
   "metadata": {},
   "source": [
    "Vor allem Dingen, wenn wir eigene Module schreiben und Importieren wollen, ist es wichtig zu verstehen, dass Python eine eigene Liste `sys.path` verwaltet, in der Python der Reihenfolge nach alle Verzeichnisse durchgeht, wenn wir ein Modul versuchen zu importieren:"
   ]
  },
  {
   "cell_type": "code",
   "execution_count": 27,
   "metadata": {
    "collapsed": true
   },
   "outputs": [],
   "source": [
    "import sys"
   ]
  },
  {
   "cell_type": "code",
   "execution_count": 28,
   "metadata": {},
   "outputs": [
    {
     "data": {
      "text/plain": [
       "['',\n",
       " 'C:\\\\Users\\\\Juergen Brauer\\\\AppData\\\\Local\\\\conda\\\\conda\\\\envs\\\\pythonkurs\\\\python36.zip',\n",
       " 'C:\\\\Users\\\\Juergen Brauer\\\\AppData\\\\Local\\\\conda\\\\conda\\\\envs\\\\pythonkurs\\\\DLLs',\n",
       " 'C:\\\\Users\\\\Juergen Brauer\\\\AppData\\\\Local\\\\conda\\\\conda\\\\envs\\\\pythonkurs\\\\lib',\n",
       " 'C:\\\\Users\\\\Juergen Brauer\\\\AppData\\\\Local\\\\conda\\\\conda\\\\envs\\\\pythonkurs',\n",
       " 'C:\\\\Users\\\\Juergen Brauer\\\\AppData\\\\Local\\\\conda\\\\conda\\\\envs\\\\pythonkurs\\\\lib\\\\site-packages',\n",
       " 'C:\\\\Users\\\\Juergen Brauer\\\\AppData\\\\Local\\\\conda\\\\conda\\\\envs\\\\pythonkurs\\\\lib\\\\site-packages\\\\Sphinx-1.6.3-py3.6.egg',\n",
       " 'C:\\\\Users\\\\Juergen Brauer\\\\AppData\\\\Local\\\\conda\\\\conda\\\\envs\\\\pythonkurs\\\\lib\\\\site-packages\\\\IPython\\\\extensions',\n",
       " 'C:\\\\Users\\\\Juergen Brauer\\\\.ipython']"
      ]
     },
     "execution_count": 28,
     "metadata": {},
     "output_type": "execute_result"
    }
   ],
   "source": [
    "sys.path"
   ]
  },
  {
   "cell_type": "markdown",
   "metadata": {},
   "source": [
    "# Wo liegt das Modul?"
   ]
  },
  {
   "cell_type": "markdown",
   "metadata": {},
   "source": [
    "Über das Attribut `__file__` eines Moduls können wir oft sehen, wo ein importiertes Modul liegt:"
   ]
  },
  {
   "cell_type": "code",
   "execution_count": 29,
   "metadata": {},
   "outputs": [],
   "source": [
    "import numpy"
   ]
  },
  {
   "cell_type": "code",
   "execution_count": 30,
   "metadata": {},
   "outputs": [
    {
     "data": {
      "text/plain": [
       "'C:\\\\Users\\\\Juergen Brauer\\\\AppData\\\\Local\\\\conda\\\\conda\\\\envs\\\\pythonkurs\\\\lib\\\\site-packages\\\\numpy\\\\__init__.py'"
      ]
     },
     "execution_count": 30,
     "metadata": {},
     "output_type": "execute_result"
    }
   ],
   "source": [
    "numpy.__file__"
   ]
  },
  {
   "cell_type": "markdown",
   "metadata": {},
   "source": [
    "Achtung! Das klappt nur für Module, die nicht statisch an den Interpreter gelinkt sind. Da dies aber zum Beispiel bei `math` jedoch der Fall ist, klappt dies hier nicht:"
   ]
  },
  {
   "cell_type": "code",
   "execution_count": 31,
   "metadata": {
    "collapsed": true
   },
   "outputs": [],
   "source": [
    "import math"
   ]
  },
  {
   "cell_type": "code",
   "execution_count": 32,
   "metadata": {},
   "outputs": [
    {
     "ename": "AttributeError",
     "evalue": "module 'math' has no attribute '__file__'",
     "output_type": "error",
     "traceback": [
      "\u001b[1;31m---------------------------------------------------------------------------\u001b[0m",
      "\u001b[1;31mAttributeError\u001b[0m                            Traceback (most recent call last)",
      "\u001b[1;32m<ipython-input-32-da5fe20062c9>\u001b[0m in \u001b[0;36m<module>\u001b[1;34m()\u001b[0m\n\u001b[1;32m----> 1\u001b[1;33m \u001b[0mmath\u001b[0m\u001b[1;33m.\u001b[0m\u001b[0m__file__\u001b[0m\u001b[1;33m\u001b[0m\u001b[0m\n\u001b[0m",
      "\u001b[1;31mAttributeError\u001b[0m: module 'math' has no attribute '__file__'"
     ]
    }
   ],
   "source": [
    "math.__file__"
   ]
  },
  {
   "cell_type": "markdown",
   "metadata": {},
   "source": [
    "# Eigene Module\n",
    "\n",
    "Was muss ich jetzt machen, um ein eigenes Modul zu schreiben?\n",
    "\n",
    "Nicht viel! Schreiben Sie einfach Ihre Funktionen und Ihre Klassen in eine Datei `mein_modul.py`. Das war es. Sie haben nun ein Modul namens `mein_modul` geschaffen.\n",
    "\n",
    "Nehmen wir z.B. an, Sie schreiben folgenden Code in eine Datei namens `mein_modul.py`:"
   ]
  },
  {
   "cell_type": "code",
   "execution_count": 33,
   "metadata": {},
   "outputs": [
    {
     "name": "stdout",
     "output_type": "stream",
     "text": [
      "Willkommen im Modul mein_modul\n"
     ]
    }
   ],
   "source": [
    "\"\"\"\n",
    "Meine Mathe-Hilfsfunktionen\n",
    "\n",
    "Da gibt es so einige.\n",
    "\"\"\"\n",
    "\n",
    "def quadriere(x):\n",
    "    \"\"\"\n",
    "    Gib mir x, ich gebe dir x*x zurück!\n",
    "    \n",
    "    Toll, oder?\n",
    "    \"\"\"\n",
    "    return x**2\n",
    "    \n",
    "def invers(x):\n",
    "    \"\"\"\n",
    "    Gib mir x, ich gebe dir 1/x zurück!\n",
    "    \"\"\"\n",
    "    return 1/x\n",
    "    \n",
    "class coord:\n",
    "    \"\"\"\n",
    "    Eine 2D-Koordinate\n",
    "    \"\"\"\n",
    "\n",
    "    def __init__(self,x,y):\n",
    "        \"\"\"\n",
    "        Der Initialisierer.\n",
    "        \"\"\"\n",
    "        self.koord = (x,y)\n",
    "        \n",
    "    def __str__(self):\n",
    "        \"\"\"\n",
    "        Damit kann sich eine 2D-Koordinate ausgeben.\n",
    "        \"\"\"\n",
    "        return \"Ich bin eine 2D-Koordinate: \" + str(self.koord)\n",
    "        \n",
    "print(\"Willkommen im Modul mein_modul\")"
   ]
  },
  {
   "cell_type": "markdown",
   "metadata": {},
   "source": [
    "Dann können Sie ihr eigenes erstes Modul nun folgendermaßen nutzen:"
   ]
  },
  {
   "cell_type": "code",
   "execution_count": 34,
   "metadata": {},
   "outputs": [
    {
     "name": "stdout",
     "output_type": "stream",
     "text": [
      "Willkommen im Modul mein_modul\n"
     ]
    }
   ],
   "source": [
    "import mein_modul"
   ]
  },
  {
   "cell_type": "code",
   "execution_count": 35,
   "metadata": {},
   "outputs": [
    {
     "data": {
      "text/plain": [
       "['__builtins__',\n",
       " '__cached__',\n",
       " '__doc__',\n",
       " '__file__',\n",
       " '__loader__',\n",
       " '__name__',\n",
       " '__package__',\n",
       " '__spec__',\n",
       " 'coord',\n",
       " 'invers',\n",
       " 'quadriere']"
      ]
     },
     "execution_count": 35,
     "metadata": {},
     "output_type": "execute_result"
    }
   ],
   "source": [
    "dir(mein_modul)"
   ]
  },
  {
   "cell_type": "code",
   "execution_count": 36,
   "metadata": {},
   "outputs": [
    {
     "data": {
      "text/plain": [
       "'V:\\\\01_job\\\\18_src\\\\03_books\\\\book_python3_schnellkurs\\\\mein_modul.py'"
      ]
     },
     "execution_count": 36,
     "metadata": {},
     "output_type": "execute_result"
    }
   ],
   "source": [
    "mein_modul.__file__"
   ]
  },
  {
   "cell_type": "code",
   "execution_count": 37,
   "metadata": {},
   "outputs": [
    {
     "data": {
      "text/plain": [
       "'\\nMeine Mathe-Hilfsfunktionen\\n\\nDa gibt es so einige.\\n'"
      ]
     },
     "execution_count": 37,
     "metadata": {},
     "output_type": "execute_result"
    }
   ],
   "source": [
    "mein_modul.__doc__"
   ]
  },
  {
   "cell_type": "code",
   "execution_count": 38,
   "metadata": {},
   "outputs": [
    {
     "name": "stdout",
     "output_type": "stream",
     "text": [
      "Help on module mein_modul:\n",
      "\n",
      "NAME\n",
      "    mein_modul - Meine Mathe-Hilfsfunktionen\n",
      "\n",
      "DESCRIPTION\n",
      "    Da gibt es so einige.\n",
      "\n",
      "CLASSES\n",
      "    builtins.object\n",
      "        coord\n",
      "    \n",
      "    class coord(builtins.object)\n",
      "     |  Eine 2D-Koordinate\n",
      "     |  \n",
      "     |  Methods defined here:\n",
      "     |  \n",
      "     |  __init__(self, x, y)\n",
      "     |      Der Initialisierer.\n",
      "     |  \n",
      "     |  __str__(self)\n",
      "     |      Damit kann sich eine 2D-Koordinate ausgeben.\n",
      "     |  \n",
      "     |  ----------------------------------------------------------------------\n",
      "     |  Data descriptors defined here:\n",
      "     |  \n",
      "     |  __dict__\n",
      "     |      dictionary for instance variables (if defined)\n",
      "     |  \n",
      "     |  __weakref__\n",
      "     |      list of weak references to the object (if defined)\n",
      "\n",
      "FUNCTIONS\n",
      "    invers(x)\n",
      "        Gib mir x, ich gebe dir 1/x zurück!\n",
      "    \n",
      "    quadriere(x)\n",
      "        Gib mir x, ich gebe dir x*x zurück!\n",
      "        \n",
      "        Toll, oder?\n",
      "\n",
      "FILE\n",
      "    v:\\01_job\\18_src\\03_books\\book_python3_schnellkurs\\mein_modul.py\n",
      "\n",
      "\n"
     ]
    }
   ],
   "source": [
    "help(mein_modul)"
   ]
  },
  {
   "cell_type": "code",
   "execution_count": 39,
   "metadata": {},
   "outputs": [
    {
     "data": {
      "text/plain": [
       "2.0"
      ]
     },
     "execution_count": 39,
     "metadata": {},
     "output_type": "execute_result"
    }
   ],
   "source": [
    "mein_modul.invers(0.5)"
   ]
  },
  {
   "cell_type": "code",
   "execution_count": 40,
   "metadata": {},
   "outputs": [
    {
     "data": {
      "text/plain": [
       "9"
      ]
     },
     "execution_count": 40,
     "metadata": {},
     "output_type": "execute_result"
    }
   ],
   "source": [
    "mein_modul.quadriere(3)"
   ]
  },
  {
   "cell_type": "code",
   "execution_count": 41,
   "metadata": {
    "collapsed": true
   },
   "outputs": [],
   "source": [
    "c = mein_modul.coord(5,7)"
   ]
  },
  {
   "cell_type": "code",
   "execution_count": 42,
   "metadata": {},
   "outputs": [
    {
     "name": "stdout",
     "output_type": "stream",
     "text": [
      "Ich bin eine 2D-Koordinate: (5, 7)\n"
     ]
    }
   ],
   "source": [
    "print(c)"
   ]
  },
  {
   "cell_type": "markdown",
   "metadata": {},
   "source": [
    "# Eigene Pakete"
   ]
  },
  {
   "cell_type": "markdown",
   "metadata": {},
   "source": [
    "Wenn man viele Module hat, die thematisch zusammen hängen, kann man diese auch zu einem Paket bündeln.\n",
    "\n",
    "Dazu legt man einfach alle Module in ein Unterverzeichnis und legt dort zudem noch eine Datei\n",
    "\n",
    "    __init__.py\n",
    "    \n",
    "an, die Initialisierungscode für das Paket enthalten kann."
   ]
  },
  {
   "cell_type": "markdown",
   "metadata": {},
   "source": [
    "Gehen wir einmal davon aus, dass wir folgende Dateien mit folgenden Inhalten haben:"
   ]
  },
  {
   "cell_type": "markdown",
   "metadata": {},
   "source": [
    "    Verzeichnisstruktur:\n",
    "    \n",
    "    meinpaket\n",
    "       |\n",
    "       |--- __init__.py\n",
    "       |--- modul_a.py\n",
    "       |--- modul_b.py\n",
    "       \n",
    "    Dateiinhalt: __init__.py\n",
    "    \n",
    "        print(\"Herzlich willkommen zu meinem unglaublichem Paket!\")\n",
    "\n",
    "        import sys\n",
    "        sys.path.append(\"meinpaket\")\n",
    "\n",
    "        import modul_a\n",
    "        import modul_b\n",
    "    \n",
    "    \n",
    "    Dateiinhalt: modul_a.py\n",
    "    \n",
    "        def foo_a():\n",
    "            print(\"foo_a\")\n",
    "            \n",
    "            \n",
    "    Dateiinhalt: modul_b.py\n",
    "    \n",
    "        def foo_b():\n",
    "            print(\"foo_b\")\n",
    "    \n",
    "    \n",
    "    "
   ]
  },
  {
   "cell_type": "markdown",
   "metadata": {},
   "source": [
    "Dann können wir das Paket `meinpaket` folgendermaßen nutzen:"
   ]
  },
  {
   "cell_type": "code",
   "execution_count": 43,
   "metadata": {},
   "outputs": [
    {
     "name": "stdout",
     "output_type": "stream",
     "text": [
      "Herzlich willkommen zu meinem unglaublichem Paket!\n"
     ]
    }
   ],
   "source": [
    "import meinpaket"
   ]
  },
  {
   "cell_type": "code",
   "execution_count": 44,
   "metadata": {},
   "outputs": [
    {
     "data": {
      "text/plain": [
       "['',\n",
       " 'C:\\\\Users\\\\Juergen Brauer\\\\AppData\\\\Local\\\\conda\\\\conda\\\\envs\\\\pythonkurs\\\\python36.zip',\n",
       " 'C:\\\\Users\\\\Juergen Brauer\\\\AppData\\\\Local\\\\conda\\\\conda\\\\envs\\\\pythonkurs\\\\DLLs',\n",
       " 'C:\\\\Users\\\\Juergen Brauer\\\\AppData\\\\Local\\\\conda\\\\conda\\\\envs\\\\pythonkurs\\\\lib',\n",
       " 'C:\\\\Users\\\\Juergen Brauer\\\\AppData\\\\Local\\\\conda\\\\conda\\\\envs\\\\pythonkurs',\n",
       " 'C:\\\\Users\\\\Juergen Brauer\\\\AppData\\\\Local\\\\conda\\\\conda\\\\envs\\\\pythonkurs\\\\lib\\\\site-packages',\n",
       " 'C:\\\\Users\\\\Juergen Brauer\\\\AppData\\\\Local\\\\conda\\\\conda\\\\envs\\\\pythonkurs\\\\lib\\\\site-packages\\\\Sphinx-1.6.3-py3.6.egg',\n",
       " 'C:\\\\Users\\\\Juergen Brauer\\\\AppData\\\\Local\\\\conda\\\\conda\\\\envs\\\\pythonkurs\\\\lib\\\\site-packages\\\\IPython\\\\extensions',\n",
       " 'C:\\\\Users\\\\Juergen Brauer\\\\.ipython',\n",
       " 'meinpaket']"
      ]
     },
     "execution_count": 44,
     "metadata": {},
     "output_type": "execute_result"
    }
   ],
   "source": [
    "import sys\n",
    "sys.path"
   ]
  },
  {
   "cell_type": "code",
   "execution_count": 45,
   "metadata": {
    "collapsed": true
   },
   "outputs": [],
   "source": [
    "from meinpaket.modul_a import foo_a"
   ]
  },
  {
   "cell_type": "code",
   "execution_count": 46,
   "metadata": {},
   "outputs": [
    {
     "name": "stdout",
     "output_type": "stream",
     "text": [
      "foo_a\n"
     ]
    }
   ],
   "source": [
    "foo_a()"
   ]
  },
  {
   "cell_type": "code",
   "execution_count": 47,
   "metadata": {
    "collapsed": true
   },
   "outputs": [],
   "source": [
    "from meinpaket.modul_b import foo_b"
   ]
  },
  {
   "cell_type": "code",
   "execution_count": 48,
   "metadata": {},
   "outputs": [
    {
     "name": "stdout",
     "output_type": "stream",
     "text": [
      "foo_b\n"
     ]
    }
   ],
   "source": [
    "foo_b()"
   ]
  },
  {
   "cell_type": "code",
   "execution_count": 49,
   "metadata": {},
   "outputs": [
    {
     "data": {
      "text/plain": [
       "['__builtins__',\n",
       " '__cached__',\n",
       " '__doc__',\n",
       " '__file__',\n",
       " '__loader__',\n",
       " '__name__',\n",
       " '__package__',\n",
       " '__path__',\n",
       " '__spec__',\n",
       " 'modul_a',\n",
       " 'modul_b',\n",
       " 'sys']"
      ]
     },
     "execution_count": 49,
     "metadata": {},
     "output_type": "execute_result"
    }
   ],
   "source": [
    "dir(meinpaket)"
   ]
  }
 ],
 "metadata": {
  "kernelspec": {
   "display_name": "Python 3",
   "language": "python",
   "name": "python3"
  },
  "language_info": {
   "codemirror_mode": {
    "name": "ipython",
    "version": 3
   },
   "file_extension": ".py",
   "mimetype": "text/x-python",
   "name": "python",
   "nbconvert_exporter": "python",
   "pygments_lexer": "ipython3",
   "version": "3.6.2"
  },
  "toc": {
   "base_numbering": 1,
   "nav_menu": {},
   "number_sections": true,
   "sideBar": true,
   "skip_h1_title": false,
   "title_cell": "Inhaltsverzeichnis",
   "title_sidebar": "Inhalte",
   "toc_cell": true,
   "toc_position": {},
   "toc_section_display": true,
   "toc_window_display": true
  }
 },
 "nbformat": 4,
 "nbformat_minor": 4
}
