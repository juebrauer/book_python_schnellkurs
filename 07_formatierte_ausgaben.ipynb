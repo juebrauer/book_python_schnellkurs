{
 "cells": [
  {
   "cell_type": "markdown",
   "metadata": {
    "toc": true
   },
   "source": [
    "<h1>Inhaltsverzeichnis<span class=\"tocSkip\"></span></h1>\n",
    "<div class=\"toc\"><ul class=\"toc-item\"><li><span><a href=\"#Bündige-Ausgaben-mit-format()\" data-toc-modified-id=\"Bündige-Ausgaben-mit-format()-1\"><span class=\"toc-item-num\">1&nbsp;&nbsp;</span>Bündige Ausgaben mit <code>format()</code></a></span></li></ul></div>"
   ]
  },
  {
   "cell_type": "markdown",
   "metadata": {
    "collapsed": true
   },
   "source": [
    "# Bündige Ausgaben mit `format()`\n",
    "\n",
    "Oft möchte man mehrere Daten untereinander so ausgeben, dass die Datenausgaben mehrerer Zeilen horizontal bündig angeordnet sind.\n",
    "\n",
    "Hierbei zeigt sich, dass die in Python eingebaute `string`-Klasse und im Speziellen ihre `format()`-Methode sehr mächtig ist. Diese erlaubt es nämlich:\n",
    "\n",
    "- einem Textfeld eine bestimmte Größe zu geben\n",
    "- die Ausrichtung (links, rechts, zentriert) der Ausgabe in dem Textfeld zu steuern\n",
    "- nicht benutzte Felder eines Textfelds mit Füllzeichen wie `.` oder `0` zu füllen\n",
    "\n",
    "Wie immer: Beispiele sagen mehr als tausend Worte! Daher:"
   ]
  },
  {
   "cell_type": "code",
   "execution_count": 1,
   "metadata": {
    "collapsed": true
   },
   "outputs": [],
   "source": [
    "zk1 = \"Dies ist ein sehr sehr langer Text\"\n",
    "zk2 = \"Kurzer Text\"\n",
    "z1 = 123\n",
    "z2 = 4.56789"
   ]
  },
  {
   "cell_type": "markdown",
   "metadata": {},
   "source": [
    "Textfeld mit 60 Zeichen. Rechtsbünding ausgeben."
   ]
  },
  {
   "cell_type": "code",
   "execution_count": 2,
   "metadata": {},
   "outputs": [
    {
     "name": "stdout",
     "output_type": "stream",
     "text": [
      "                          Dies ist ein sehr sehr langer Text\n"
     ]
    }
   ],
   "source": [
    "print(\"{0:>60}\".format(zk1))"
   ]
  },
  {
   "cell_type": "markdown",
   "metadata": {},
   "source": [
    "Textfeld mit 60 Zeichen. Linksbündig ausgeben."
   ]
  },
  {
   "cell_type": "code",
   "execution_count": 3,
   "metadata": {},
   "outputs": [
    {
     "name": "stdout",
     "output_type": "stream",
     "text": [
      "Dies ist ein sehr sehr langer Text                          \n"
     ]
    }
   ],
   "source": [
    "print(\"{0:<60}\".format(zk1))"
   ]
  },
  {
   "cell_type": "markdown",
   "metadata": {},
   "source": [
    "Textfeld mit 60 Zeichen. Zentriert ausgeben."
   ]
  },
  {
   "cell_type": "code",
   "execution_count": 4,
   "metadata": {},
   "outputs": [
    {
     "name": "stdout",
     "output_type": "stream",
     "text": [
      "             Dies ist ein sehr sehr langer Text             \n"
     ]
    }
   ],
   "source": [
    "print(\"{0:^60}\".format(zk1))"
   ]
  },
  {
   "cell_type": "markdown",
   "metadata": {},
   "source": [
    "Textfeld `{0}` mit 40 Zeichen. Dann Doppelpunkt und Leerzeichen, dann nächstes Textfeld `{1}`."
   ]
  },
  {
   "cell_type": "code",
   "execution_count": 6,
   "metadata": {},
   "outputs": [
    {
     "name": "stdout",
     "output_type": "stream",
     "text": [
      "Dies ist ein sehr sehr langer Text      : 123\n"
     ]
    }
   ],
   "source": [
    "print(\"{0:40}: {1}\".format(zk1,z1))"
   ]
  },
  {
   "cell_type": "markdown",
   "metadata": {},
   "source": [
    "Damit haben wir alles zusammen um Textausgaben bündig zu gestalten:"
   ]
  },
  {
   "cell_type": "code",
   "execution_count": 7,
   "metadata": {},
   "outputs": [
    {
     "name": "stdout",
     "output_type": "stream",
     "text": [
      "Dies ist ein sehr sehr langer Text      : 123\n",
      "Kurzer Text                             : 4.56789\n"
     ]
    }
   ],
   "source": [
    "print(\"{0:40}: {1}\".format(zk1,z1))\n",
    "print(\"{0:40}: {1}\".format(zk2,z2))"
   ]
  },
  {
   "cell_type": "markdown",
   "metadata": {},
   "source": [
    "Beide Zahlen rechtsbündig ausgeben:"
   ]
  },
  {
   "cell_type": "code",
   "execution_count": 8,
   "metadata": {},
   "outputs": [
    {
     "name": "stdout",
     "output_type": "stream",
     "text": [
      "Dies ist ein sehr sehr langer Text      :        123\n",
      "Kurzer Text                             :    4.56789\n"
     ]
    }
   ],
   "source": [
    "print(\"{0:40}: {1:>10}\".format(zk1,z1))\n",
    "print(\"{0:40}: {1:>10}\".format(zk2,z2))"
   ]
  },
  {
   "cell_type": "markdown",
   "metadata": {},
   "source": [
    "Füllzeichen für erstes Textfeld `.` und Füllzeichen für zweites Textfeld `_`:"
   ]
  },
  {
   "cell_type": "code",
   "execution_count": 14,
   "metadata": {},
   "outputs": [
    {
     "name": "stdout",
     "output_type": "stream",
     "text": [
      "Dies ist ein sehr sehr langer Text......: _______123\n",
      "Kurzer Text.............................: ___4.56789\n"
     ]
    }
   ],
   "source": [
    "print(\"{0:.<40}: {1:_>10}\".format(zk1,z1))\n",
    "print(\"{0:.<40}: {1:_>10}\".format(zk2,z2))"
   ]
  },
  {
   "cell_type": "markdown",
   "metadata": {},
   "source": [
    "Führende Nullen bei Zahl:"
   ]
  },
  {
   "cell_type": "code",
   "execution_count": 15,
   "metadata": {},
   "outputs": [
    {
     "name": "stdout",
     "output_type": "stream",
     "text": [
      "Dies ist ein sehr sehr langer Text......: 0000000123\n",
      "Kurzer Text.............................: 0004.56789\n"
     ]
    }
   ],
   "source": [
    "print(\"{0:.<40}: {1:0>10}\".format(zk1,z1))\n",
    "print(\"{0:.<40}: {1:0>10}\".format(zk2,z2))"
   ]
  },
  {
   "cell_type": "markdown",
   "metadata": {},
   "source": [
    "Zwei Nachkommastellen Genauigkeit bei gebrochener Zahl:"
   ]
  },
  {
   "cell_type": "code",
   "execution_count": 16,
   "metadata": {},
   "outputs": [
    {
     "name": "stdout",
     "output_type": "stream",
     "text": [
      "Dies ist ein sehr sehr langer Text......: 0000000123\n",
      "Kurzer Text.............................: 0000004.57\n"
     ]
    }
   ],
   "source": [
    "print(\"{0:.<40}: {1:0>10}\".format(zk1,z1))\n",
    "print(\"{0:.<40}: {1:0>10.2f}\".format(zk2,z2))"
   ]
  },
  {
   "cell_type": "code",
   "execution_count": null,
   "metadata": {
    "collapsed": true
   },
   "outputs": [],
   "source": []
  }
 ],
 "metadata": {
  "kernelspec": {
   "display_name": "Python 3",
   "language": "python",
   "name": "python3"
  },
  "language_info": {
   "codemirror_mode": {
    "name": "ipython",
    "version": 3
   },
   "file_extension": ".py",
   "mimetype": "text/x-python",
   "name": "python",
   "nbconvert_exporter": "python",
   "pygments_lexer": "ipython3",
   "version": "3.6.2"
  },
  "toc": {
   "base_numbering": 1,
   "nav_menu": {},
   "number_sections": true,
   "sideBar": true,
   "skip_h1_title": false,
   "title_cell": "Inhaltsverzeichnis",
   "title_sidebar": "Inhalte",
   "toc_cell": true,
   "toc_position": {
    "height": "calc(100% - 180px)",
    "left": "10px",
    "top": "150px",
    "width": "212px"
   },
   "toc_section_display": true,
   "toc_window_display": true
  }
 },
 "nbformat": 4,
 "nbformat_minor": 4
}
